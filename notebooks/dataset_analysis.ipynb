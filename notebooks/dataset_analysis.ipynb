{
 "cells": [
  {
   "cell_type": "markdown",
   "id": "3a9fd5b1",
   "metadata": {},
   "source": [
    "# Dataset Analysis of Protein Structures"
   ]
  },
  {
   "cell_type": "markdown",
   "id": "fdfbaf65",
   "metadata": {},
   "source": [
    "## Dataset Overview\n",
    "\n",
    "In this notebook, we load a curated list of PDB identifiers, download their corresponding structures, and compute the following metrics for each protein:\n",
    "- **Residue count**: total number of amino acid residues.\n",
    "- **Chain count**: number of polypeptide chains.\n",
    "- **Center of mass**: 3D coordinates of the center of mass (X, Y, Z).\n",
    "- **Average backbone angles**: mean φ (phi) and ψ (psi) angles in degrees.\n",
    "\n",
    "## Dataset Description\n",
    "\n",
    "The dataset contains 32 protein structures chosen to capture four broad functional classes:\n",
    "\n",
    "| Category | Examples | Purpose |\n",
    "|----------|----------|---------|\n",
    "| **Enzymes** | 1AKE, 1H2W, 4WNC | Classic catalytic models for RMSD benchmarking |\n",
    "| **Small single–domain proteins** | 1CRN, 1BRS | Compact folds for φ/ψ angle statistics |\n",
    "| **Membrane proteins / receptors** | 1A0S, 2RH1, 3MKT | Trans-membrane topology diversity |\n",
    "| **Large multichain complexes** | 4V4Q, 6VXX | Stress-testing performance on big assemblies |\n",
    "\n",
    "The table below lists every PDB identifier, its functional family, the total number of residues (computed on the fly), and the source (all structures were downloaded from the RCSB PDB archive)."
   ]
  },
  {
   "cell_type": "code",
   "execution_count": 1,
   "id": "453abf8e-091f-40d3-8e0b-c2f98bc6f8b9",
   "metadata": {},
   "outputs": [
    {
     "name": "stdout",
     "output_type": "stream",
     "text": [
      "Requirement already satisfied: biopython>=1.79 in c:\\users\\user\\pycharmprojects\\protein_explorer\\.venv\\lib\\site-packages (from -r ../requirements.txt (line 1)) (1.85)\n",
      "Requirement already satisfied: matplotlib>=3.5.0 in c:\\users\\user\\pycharmprojects\\protein_explorer\\.venv\\lib\\site-packages (from -r ../requirements.txt (line 2)) (3.10.3)\n",
      "Requirement already satisfied: numpy>=1.23.0 in c:\\users\\user\\pycharmprojects\\protein_explorer\\.venv\\lib\\site-packages (from -r ../requirements.txt (line 3)) (2.2.6)\n",
      "Requirement already satisfied: flask>=3.1.1 in c:\\users\\user\\pycharmprojects\\protein_explorer\\.venv\\lib\\site-packages (from -r ../requirements.txt (line 4)) (3.1.1)\n",
      "Requirement already satisfied: gunicorn>=20.1.0 in c:\\users\\user\\pycharmprojects\\protein_explorer\\.venv\\lib\\site-packages (from -r ../requirements.txt (line 5)) (23.0.0)\n",
      "Requirement already satisfied: pytest>=7.0.0 in c:\\users\\user\\pycharmprojects\\protein_explorer\\.venv\\lib\\site-packages (from -r ../requirements.txt (line 6)) (8.3.5)\n",
      "Requirement already satisfied: requests>=2.28.0 in c:\\users\\user\\pycharmprojects\\protein_explorer\\.venv\\lib\\site-packages (from -r ../requirements.txt (line 7)) (2.32.4)\n",
      "Requirement already satisfied: contourpy>=1.0.1 in c:\\users\\user\\pycharmprojects\\protein_explorer\\.venv\\lib\\site-packages (from matplotlib>=3.5.0->-r ../requirements.txt (line 2)) (1.3.2)\n",
      "Requirement already satisfied: cycler>=0.10 in c:\\users\\user\\pycharmprojects\\protein_explorer\\.venv\\lib\\site-packages (from matplotlib>=3.5.0->-r ../requirements.txt (line 2)) (0.12.1)\n",
      "Requirement already satisfied: fonttools>=4.22.0 in c:\\users\\user\\pycharmprojects\\protein_explorer\\.venv\\lib\\site-packages (from matplotlib>=3.5.0->-r ../requirements.txt (line 2)) (4.58.1)\n",
      "Requirement already satisfied: kiwisolver>=1.3.1 in c:\\users\\user\\pycharmprojects\\protein_explorer\\.venv\\lib\\site-packages (from matplotlib>=3.5.0->-r ../requirements.txt (line 2)) (1.4.8)\n",
      "Requirement already satisfied: packaging>=20.0 in c:\\users\\user\\pycharmprojects\\protein_explorer\\.venv\\lib\\site-packages (from matplotlib>=3.5.0->-r ../requirements.txt (line 2)) (25.0)\n",
      "Requirement already satisfied: pillow>=8 in c:\\users\\user\\pycharmprojects\\protein_explorer\\.venv\\lib\\site-packages (from matplotlib>=3.5.0->-r ../requirements.txt (line 2)) (11.2.1)\n",
      "Requirement already satisfied: pyparsing>=2.3.1 in c:\\users\\user\\pycharmprojects\\protein_explorer\\.venv\\lib\\site-packages (from matplotlib>=3.5.0->-r ../requirements.txt (line 2)) (3.2.3)\n",
      "Requirement already satisfied: python-dateutil>=2.7 in c:\\users\\user\\pycharmprojects\\protein_explorer\\.venv\\lib\\site-packages (from matplotlib>=3.5.0->-r ../requirements.txt (line 2)) (2.9.0.post0)\n",
      "Requirement already satisfied: blinker>=1.9.0 in c:\\users\\user\\pycharmprojects\\protein_explorer\\.venv\\lib\\site-packages (from flask>=3.1.1->-r ../requirements.txt (line 4)) (1.9.0)\n",
      "Requirement already satisfied: click>=8.1.3 in c:\\users\\user\\pycharmprojects\\protein_explorer\\.venv\\lib\\site-packages (from flask>=3.1.1->-r ../requirements.txt (line 4)) (8.2.1)\n",
      "Requirement already satisfied: itsdangerous>=2.2.0 in c:\\users\\user\\pycharmprojects\\protein_explorer\\.venv\\lib\\site-packages (from flask>=3.1.1->-r ../requirements.txt (line 4)) (2.2.0)\n",
      "Requirement already satisfied: jinja2>=3.1.2 in c:\\users\\user\\pycharmprojects\\protein_explorer\\.venv\\lib\\site-packages (from flask>=3.1.1->-r ../requirements.txt (line 4)) (3.1.6)\n",
      "Requirement already satisfied: markupsafe>=2.1.1 in c:\\users\\user\\pycharmprojects\\protein_explorer\\.venv\\lib\\site-packages (from flask>=3.1.1->-r ../requirements.txt (line 4)) (3.0.2)\n",
      "Requirement already satisfied: werkzeug>=3.1.0 in c:\\users\\user\\pycharmprojects\\protein_explorer\\.venv\\lib\\site-packages (from flask>=3.1.1->-r ../requirements.txt (line 4)) (3.1.3)\n",
      "Requirement already satisfied: colorama in c:\\users\\user\\pycharmprojects\\protein_explorer\\.venv\\lib\\site-packages (from pytest>=7.0.0->-r ../requirements.txt (line 6)) (0.4.6)\n",
      "Requirement already satisfied: iniconfig in c:\\users\\user\\pycharmprojects\\protein_explorer\\.venv\\lib\\site-packages (from pytest>=7.0.0->-r ../requirements.txt (line 6)) (2.1.0)\n",
      "Requirement already satisfied: pluggy<2,>=1.5 in c:\\users\\user\\pycharmprojects\\protein_explorer\\.venv\\lib\\site-packages (from pytest>=7.0.0->-r ../requirements.txt (line 6)) (1.6.0)\n",
      "Requirement already satisfied: charset_normalizer<4,>=2 in c:\\users\\user\\pycharmprojects\\protein_explorer\\.venv\\lib\\site-packages (from requests>=2.28.0->-r ../requirements.txt (line 7)) (3.4.2)\n",
      "Requirement already satisfied: idna<4,>=2.5 in c:\\users\\user\\pycharmprojects\\protein_explorer\\.venv\\lib\\site-packages (from requests>=2.28.0->-r ../requirements.txt (line 7)) (3.10)\n",
      "Requirement already satisfied: urllib3<3,>=1.21.1 in c:\\users\\user\\pycharmprojects\\protein_explorer\\.venv\\lib\\site-packages (from requests>=2.28.0->-r ../requirements.txt (line 7)) (2.4.0)\n",
      "Requirement already satisfied: certifi>=2017.4.17 in c:\\users\\user\\pycharmprojects\\protein_explorer\\.venv\\lib\\site-packages (from requests>=2.28.0->-r ../requirements.txt (line 7)) (2025.6.15)\n",
      "Requirement already satisfied: six>=1.5 in c:\\users\\user\\pycharmprojects\\protein_explorer\\.venv\\lib\\site-packages (from python-dateutil>=2.7->matplotlib>=3.5.0->-r ../requirements.txt (line 2)) (1.17.0)\n",
      "Note: you may need to restart the kernel to use updated packages.\n"
     ]
    }
   ],
   "source": [
    "%pip install -r ../requirements.txt"
   ]
  },
  {
   "cell_type": "code",
   "execution_count": 2,
   "id": "04fb254c",
   "metadata": {},
   "outputs": [],
   "source": [
    "import os\n",
    "import pandas as pd\n",
    "import numpy as np\n",
    "import requests\n",
    "from Bio.PDB import PDBList, PDBParser\n",
    "from Bio.PDB.MMCIFParser import MMCIFParser\n",
    "import plotly.express as px\n",
    "\n",
    "pdb_list_file = '../data/pdb_list.txt'"
   ]
  },
  {
   "cell_type": "code",
   "execution_count": 3,
   "id": "c370e4e0",
   "metadata": {},
   "outputs": [
    {
     "data": {
      "text/plain": [
       "['1AKE   # adenylate kinase',\n",
       " '2PTC   # trypsinвЂ“inhibitor complex',\n",
       " '1LYZ   # hen-egg-white lysozyme',\n",
       " '1D66   # dihydrofolate reductase',\n",
       " '1H2W   # HIV-1 protease',\n",
       " '1H4L   # cytochrome P450-cam',\n",
       " '4WNC   # human acetylcholinesterase',\n",
       " '2C7E   # alanine racemase',\n",
       " '5E8A   # catalytic antibody 48G7',\n",
       " '3G5U   # T7 RNA polymerase',\n",
       " '1CRN   # crambin (plant protein)',\n",
       " '1BRS   # barnase',\n",
       " '1PPT   # pancreatic trypsin inhibitor (BPTI)',\n",
       " '1TIT   # titin I27 domain',\n",
       " '2WXC   # WW domain of Pin1',\n",
       " '1A0S   # bacteriorhodopsin',\n",
       " '1A0I   # KcsA potassium channel',\n",
       " '2POR   # OmpF porin',\n",
       " '2RH1   # ОІ2-adrenergic GPCR',\n",
       " '3SN6   # Ој-opioid GPCR',\n",
       " '3MKT   # leucine transporter (LeuT)',\n",
       " '6CP6   # mitochondrial ATP-synthase F1 domain',\n",
       " '5I6X   # human GLUT1 glucose transporter',\n",
       " '4V4Q   # E. coli 70S ribosome (small subunit)',\n",
       " '3J3Q   # yeast mitochondrial ribosome',\n",
       " '7KOO   # human 80S ribosome (snapshot)',\n",
       " '6VXX   # SARS-CoV-2 spike trimer',\n",
       " '5L93   # human clathrin coat']"
      ]
     },
     "execution_count": 3,
     "metadata": {},
     "output_type": "execute_result"
    }
   ],
   "source": [
    "with open(pdb_list_file) as f:\n",
    "    pdb_ids = [line.strip() for line in f if line.strip()]\n",
    "    \n",
    "pdb_ids"
   ]
  },
  {
   "cell_type": "code",
   "execution_count": 4,
   "id": "6ac87288",
   "metadata": {},
   "outputs": [],
   "source": [
    "from Bio.PDB.vectors import calc_dihedral\n",
    "from Bio.PDB import PPBuilder\n",
    "\n",
    "pdbl = PDBList()\n",
    "parser = PDBParser(QUIET=True)\n",
    "\n",
    "STRUCT_DIR = \"structures\"\n",
    "os.makedirs(STRUCT_DIR, exist_ok=True)\n",
    "\n",
    "def download_structure(pdb_id, out_dir=STRUCT_DIR):\n",
    "    pdb_id = pdb_id.lower()\n",
    "    pdb_path = os.path.join(out_dir, f\"{pdb_id}.pdb\")\n",
    "    cif_path = os.path.join(out_dir, f\"{pdb_id}.cif\")\n",
    "\n",
    "    # уже скачан?\n",
    "    if os.path.isfile(pdb_path):\n",
    "        return pdb_path\n",
    "    if os.path.isfile(cif_path):\n",
    "        return cif_path\n",
    "\n",
    "    # пробуем PDB\n",
    "    url_pdb = f\"https://files.rcsb.org/download/{pdb_id}.pdb\"\n",
    "    r = requests.get(url_pdb)\n",
    "    if r.ok and len(r.text) > 100:\n",
    "        with open(pdb_path, \"w\") as f:\n",
    "            f.write(r.text)\n",
    "        print(f\"Downloaded PDB '{pdb_id}'\")\n",
    "        return pdb_path\n",
    "\n",
    "    # пробуем CIF\n",
    "    url_cif = f\"https://files.rcsb.org/download/{pdb_id}.cif\"\n",
    "    r = requests.get(url_cif)\n",
    "    if r.ok and len(r.text) > 100:\n",
    "        with open(cif_path, \"w\") as f:\n",
    "            f.write(r.text)\n",
    "        print(f\"Downloaded CIF '{pdb_id}'\")\n",
    "        return cif_path\n",
    "\n",
    "    raise FileNotFoundError(f\"No PDB/CIF found for {pdb_id}\")\n",
    "\n",
    "def parse_structure(path):\n",
    "    if path.endswith(\".pdb\"):\n",
    "        parser = PDBParser(QUIET=True)\n",
    "    elif path.endswith(\".cif\"):\n",
    "        parser = MMCIFParser(QUIET=True)\n",
    "    else:\n",
    "        raise ValueError(\"Unsupported format\")\n",
    "    struct_id = os.path.basename(path).split('.')[0]\n",
    "    return parser.get_structure(struct_id, path)\n",
    "def compute_center_of_mass(struct):\n",
    "    coords = []\n",
    "    masses = []\n",
    "    for atom in struct.get_atoms():\n",
    "        if hasattr(atom, 'mass'):\n",
    "            coords.append(atom.get_coord() * atom.mass)\n",
    "            masses.append(atom.mass)\n",
    "    if not masses:\n",
    "        return (float('nan'), float('nan'), float('nan'))\n",
    "    com = np.sum(coords, axis=0) / np.sum(masses)\n",
    "    return tuple(com)\n",
    "\n",
    "def compute_phi_psi(struct):\n",
    "    angles = []\n",
    "    for model in struct:\n",
    "        for chain in model:\n",
    "            for poly in PPBuilder().build_peptides(chain):\n",
    "                for phi, psi in poly.get_phi_psi_list():\n",
    "                    if phi and psi:\n",
    "                        angles.append((phi, psi))\n",
    "    return angles"
   ]
  },
  {
   "cell_type": "code",
   "execution_count": 5,
   "id": "7d8eef54",
   "metadata": {},
   "outputs": [
    {
     "name": "stdout",
     "output_type": "stream",
     "text": [
      "Downloaded PDB '7koo'\n",
      "Downloaded PDB '6vxx'\n",
      "Downloaded PDB '5l93'\n",
      "  pdb_id  residue_count  chain_count   center_x   center_y   center_z  \\\n",
      "0   1AKE            428            2  20.184478  25.612156  20.331380   \n",
      "1   2PTC            281            2  10.865600  70.390938  17.345945   \n",
      "2   1LYZ            129            1  -0.411743  20.632387  19.084470   \n",
      "3   1D66            152            4  27.459647  41.773087  28.397540   \n",
      "4   1H2W            710            1  36.327195  41.427252  88.999231   \n",
      "\n",
      "     avg_phi    avg_psi  \n",
      "0 -68.610796  25.445530  \n",
      "1 -78.083670  67.282326  \n",
      "2 -63.558812  18.431132  \n",
      "3 -70.433316  37.974446  \n",
      "4 -81.041085  58.647656  \n",
      "       residue_count  chain_count    center_x    center_y    center_z  \\\n",
      "count      28.000000    28.000000   28.000000   28.000000   28.000000   \n",
      "mean    13106.714286    56.928571   39.644866   51.374000   43.768366   \n",
      "std     58953.845281   255.362477  103.577866  121.870345  102.340069   \n",
      "min        36.000000     1.000000  -36.960645  -24.995074  -94.236221   \n",
      "25%       296.000000     1.000000   -0.726389   -0.236386    5.901621   \n",
      "50%       780.000000     2.500000   12.166653   15.203633   20.758394   \n",
      "75%      2327.250000     6.500000   35.824746   48.586068   40.989514   \n",
      "max    313236.000000  1356.000000  497.961359  610.332677  471.068158   \n",
      "\n",
      "         avg_phi    avg_psi  \n",
      "count  28.000000  28.000000  \n",
      "mean  -74.292477  32.384134  \n",
      "std    10.981704  30.891503  \n",
      "min   -95.869610 -36.424408  \n",
      "25%   -81.258475  17.027068  \n",
      "50%   -73.336133  24.618345  \n",
      "75%   -66.070764  51.120125  \n",
      "max   -55.379707  94.118098  \n"
     ]
    }
   ],
   "source": [
    "results = []\n",
    "for pdb_id in pdb_ids:\n",
    "    pdb_id = pdb_id[0:4]\n",
    "    path = download_structure(pdb_id)\n",
    "    struct = parse_structure(path)\n",
    "    residues = [res for res in struct.get_residues() if res.id[0] == ' ']\n",
    "    residue_count = len(residues)\n",
    "    chain_count = len({chain.id for chain in struct.get_chains()})\n",
    "    center_of_mass = compute_center_of_mass(struct)\n",
    "    phi_psi = compute_phi_psi(struct)\n",
    "    if phi_psi:\n",
    "        avg_phi = np.degrees(np.mean([a for a,_ in phi_psi]))\n",
    "        avg_psi = np.degrees(np.mean([b for _,b in phi_psi]))\n",
    "    else:\n",
    "        avg_phi = float('nan')\n",
    "        avg_psi = float('nan')\n",
    "    results.append({'pdb_id': pdb_id, 'residue_count': residue_count, 'chain_count': chain_count,\n",
    "                    'center_x': center_of_mass[0], 'center_y': center_of_mass[1], 'center_z': center_of_mass[2],\n",
    "                    'avg_phi': avg_phi, 'avg_psi': avg_psi})\n",
    "\n",
    "df = pd.DataFrame(results)\n",
    "print(df.head())\n",
    "print(df.describe())"
   ]
  },
  {
   "cell_type": "markdown",
   "id": "ece950d0",
   "metadata": {},
   "source": [
    "### Center of Mass Scatter (X vs Y)\n",
    "\n",
    "This scatter plot displays the X and Y coordinates of each protein’s center of mass.  \n",
    "- Each point represents one PDB structure.  \n",
    "- Color encodes the number of chains in that structure (warmer colors = more chains).  \n",
    "\n",
    "By examining this plot, we can see how protein mass is distributed spatially (in the XY plane) and whether multi-chain complexes tend to occupy different spatial regions than single-chain proteins.\n",
    "\n",
    "### Center of Mass Scatter (X vs Y)\n",
    "\n",
    "This scatter plot displays the X and Y coordinates of each protein’s center of mass.  \n",
    "- Each point represents one PDB structure.  \n",
    "- Color encodes the number of chains in that structure (warmer colors = more chains).  \n",
    "\n",
    "By examining this plot, we can see how protein mass is distributed spatially (in the XY plane) and whether multi-chain complexes tend to occupy different spatial regions than single-chain proteins.\n",
    "\n",
    "\n",
    "### Average Phi and Psi Angle Distributions\n",
    "\n",
    "Here we compare the backbone dihedral angles across all proteins:  \n",
    "- **avg_phi** box shows the distribution of mean φ angles.  \n",
    "- **avg_psi** box shows the distribution of mean ψ angles.  \n",
    "\n",
    "Box plots summarize the median, interquartile range, and outliers for each angle.  \n",
    "This analysis provides insight into the typical backbone conformations in our dataset.\n"
   ]
  },
  {
   "cell_type": "code",
   "execution_count": 7,
   "id": "30de5d79",
   "metadata": {},
   "outputs": [
    {
     "data": {
      "application/vnd.plotly.v1+json": {
       "config": {
        "plotlyServerURL": "https://plot.ly"
       },
       "data": [
        {
         "bingroup": "x",
         "hovertemplate": "residue_count=%{x}<br>count=%{y}<extra></extra>",
         "legendgroup": "",
         "marker": {
          "color": "#636efa",
          "pattern": {
           "shape": ""
          }
         },
         "name": "",
         "orientation": "v",
         "showlegend": false,
         "type": "histogram",
         "x": {
          "bdata": "rAEAABkBAACBAAAAmAAAAMYCAABSAwAAaAoAALYcAACJAAAAPAkAAC4AAABMAgAAJAAAAFkAAACsAwAA1wQAAEwBAAAtAQAAugEAACYFAACYAwAA/hMAANADAADXTwAAlMcEAAsJAABkCwAAoAIAAA==",
          "dtype": "i4"
         },
         "xaxis": "x",
         "yaxis": "y"
        }
       ],
       "layout": {
        "barmode": "relative",
        "legend": {
         "tracegroupgap": 0
        },
        "template": {
         "data": {
          "bar": [
           {
            "error_x": {
             "color": "#2a3f5f"
            },
            "error_y": {
             "color": "#2a3f5f"
            },
            "marker": {
             "line": {
              "color": "#E5ECF6",
              "width": 0.5
             },
             "pattern": {
              "fillmode": "overlay",
              "size": 10,
              "solidity": 0.2
             }
            },
            "type": "bar"
           }
          ],
          "barpolar": [
           {
            "marker": {
             "line": {
              "color": "#E5ECF6",
              "width": 0.5
             },
             "pattern": {
              "fillmode": "overlay",
              "size": 10,
              "solidity": 0.2
             }
            },
            "type": "barpolar"
           }
          ],
          "carpet": [
           {
            "aaxis": {
             "endlinecolor": "#2a3f5f",
             "gridcolor": "white",
             "linecolor": "white",
             "minorgridcolor": "white",
             "startlinecolor": "#2a3f5f"
            },
            "baxis": {
             "endlinecolor": "#2a3f5f",
             "gridcolor": "white",
             "linecolor": "white",
             "minorgridcolor": "white",
             "startlinecolor": "#2a3f5f"
            },
            "type": "carpet"
           }
          ],
          "choropleth": [
           {
            "colorbar": {
             "outlinewidth": 0,
             "ticks": ""
            },
            "type": "choropleth"
           }
          ],
          "contour": [
           {
            "colorbar": {
             "outlinewidth": 0,
             "ticks": ""
            },
            "colorscale": [
             [
              0,
              "#0d0887"
             ],
             [
              0.1111111111111111,
              "#46039f"
             ],
             [
              0.2222222222222222,
              "#7201a8"
             ],
             [
              0.3333333333333333,
              "#9c179e"
             ],
             [
              0.4444444444444444,
              "#bd3786"
             ],
             [
              0.5555555555555556,
              "#d8576b"
             ],
             [
              0.6666666666666666,
              "#ed7953"
             ],
             [
              0.7777777777777778,
              "#fb9f3a"
             ],
             [
              0.8888888888888888,
              "#fdca26"
             ],
             [
              1,
              "#f0f921"
             ]
            ],
            "type": "contour"
           }
          ],
          "contourcarpet": [
           {
            "colorbar": {
             "outlinewidth": 0,
             "ticks": ""
            },
            "type": "contourcarpet"
           }
          ],
          "heatmap": [
           {
            "colorbar": {
             "outlinewidth": 0,
             "ticks": ""
            },
            "colorscale": [
             [
              0,
              "#0d0887"
             ],
             [
              0.1111111111111111,
              "#46039f"
             ],
             [
              0.2222222222222222,
              "#7201a8"
             ],
             [
              0.3333333333333333,
              "#9c179e"
             ],
             [
              0.4444444444444444,
              "#bd3786"
             ],
             [
              0.5555555555555556,
              "#d8576b"
             ],
             [
              0.6666666666666666,
              "#ed7953"
             ],
             [
              0.7777777777777778,
              "#fb9f3a"
             ],
             [
              0.8888888888888888,
              "#fdca26"
             ],
             [
              1,
              "#f0f921"
             ]
            ],
            "type": "heatmap"
           }
          ],
          "histogram": [
           {
            "marker": {
             "pattern": {
              "fillmode": "overlay",
              "size": 10,
              "solidity": 0.2
             }
            },
            "type": "histogram"
           }
          ],
          "histogram2d": [
           {
            "colorbar": {
             "outlinewidth": 0,
             "ticks": ""
            },
            "colorscale": [
             [
              0,
              "#0d0887"
             ],
             [
              0.1111111111111111,
              "#46039f"
             ],
             [
              0.2222222222222222,
              "#7201a8"
             ],
             [
              0.3333333333333333,
              "#9c179e"
             ],
             [
              0.4444444444444444,
              "#bd3786"
             ],
             [
              0.5555555555555556,
              "#d8576b"
             ],
             [
              0.6666666666666666,
              "#ed7953"
             ],
             [
              0.7777777777777778,
              "#fb9f3a"
             ],
             [
              0.8888888888888888,
              "#fdca26"
             ],
             [
              1,
              "#f0f921"
             ]
            ],
            "type": "histogram2d"
           }
          ],
          "histogram2dcontour": [
           {
            "colorbar": {
             "outlinewidth": 0,
             "ticks": ""
            },
            "colorscale": [
             [
              0,
              "#0d0887"
             ],
             [
              0.1111111111111111,
              "#46039f"
             ],
             [
              0.2222222222222222,
              "#7201a8"
             ],
             [
              0.3333333333333333,
              "#9c179e"
             ],
             [
              0.4444444444444444,
              "#bd3786"
             ],
             [
              0.5555555555555556,
              "#d8576b"
             ],
             [
              0.6666666666666666,
              "#ed7953"
             ],
             [
              0.7777777777777778,
              "#fb9f3a"
             ],
             [
              0.8888888888888888,
              "#fdca26"
             ],
             [
              1,
              "#f0f921"
             ]
            ],
            "type": "histogram2dcontour"
           }
          ],
          "mesh3d": [
           {
            "colorbar": {
             "outlinewidth": 0,
             "ticks": ""
            },
            "type": "mesh3d"
           }
          ],
          "parcoords": [
           {
            "line": {
             "colorbar": {
              "outlinewidth": 0,
              "ticks": ""
             }
            },
            "type": "parcoords"
           }
          ],
          "pie": [
           {
            "automargin": true,
            "type": "pie"
           }
          ],
          "scatter": [
           {
            "fillpattern": {
             "fillmode": "overlay",
             "size": 10,
             "solidity": 0.2
            },
            "type": "scatter"
           }
          ],
          "scatter3d": [
           {
            "line": {
             "colorbar": {
              "outlinewidth": 0,
              "ticks": ""
             }
            },
            "marker": {
             "colorbar": {
              "outlinewidth": 0,
              "ticks": ""
             }
            },
            "type": "scatter3d"
           }
          ],
          "scattercarpet": [
           {
            "marker": {
             "colorbar": {
              "outlinewidth": 0,
              "ticks": ""
             }
            },
            "type": "scattercarpet"
           }
          ],
          "scattergeo": [
           {
            "marker": {
             "colorbar": {
              "outlinewidth": 0,
              "ticks": ""
             }
            },
            "type": "scattergeo"
           }
          ],
          "scattergl": [
           {
            "marker": {
             "colorbar": {
              "outlinewidth": 0,
              "ticks": ""
             }
            },
            "type": "scattergl"
           }
          ],
          "scattermap": [
           {
            "marker": {
             "colorbar": {
              "outlinewidth": 0,
              "ticks": ""
             }
            },
            "type": "scattermap"
           }
          ],
          "scattermapbox": [
           {
            "marker": {
             "colorbar": {
              "outlinewidth": 0,
              "ticks": ""
             }
            },
            "type": "scattermapbox"
           }
          ],
          "scatterpolar": [
           {
            "marker": {
             "colorbar": {
              "outlinewidth": 0,
              "ticks": ""
             }
            },
            "type": "scatterpolar"
           }
          ],
          "scatterpolargl": [
           {
            "marker": {
             "colorbar": {
              "outlinewidth": 0,
              "ticks": ""
             }
            },
            "type": "scatterpolargl"
           }
          ],
          "scatterternary": [
           {
            "marker": {
             "colorbar": {
              "outlinewidth": 0,
              "ticks": ""
             }
            },
            "type": "scatterternary"
           }
          ],
          "surface": [
           {
            "colorbar": {
             "outlinewidth": 0,
             "ticks": ""
            },
            "colorscale": [
             [
              0,
              "#0d0887"
             ],
             [
              0.1111111111111111,
              "#46039f"
             ],
             [
              0.2222222222222222,
              "#7201a8"
             ],
             [
              0.3333333333333333,
              "#9c179e"
             ],
             [
              0.4444444444444444,
              "#bd3786"
             ],
             [
              0.5555555555555556,
              "#d8576b"
             ],
             [
              0.6666666666666666,
              "#ed7953"
             ],
             [
              0.7777777777777778,
              "#fb9f3a"
             ],
             [
              0.8888888888888888,
              "#fdca26"
             ],
             [
              1,
              "#f0f921"
             ]
            ],
            "type": "surface"
           }
          ],
          "table": [
           {
            "cells": {
             "fill": {
              "color": "#EBF0F8"
             },
             "line": {
              "color": "white"
             }
            },
            "header": {
             "fill": {
              "color": "#C8D4E3"
             },
             "line": {
              "color": "white"
             }
            },
            "type": "table"
           }
          ]
         },
         "layout": {
          "annotationdefaults": {
           "arrowcolor": "#2a3f5f",
           "arrowhead": 0,
           "arrowwidth": 1
          },
          "autotypenumbers": "strict",
          "coloraxis": {
           "colorbar": {
            "outlinewidth": 0,
            "ticks": ""
           }
          },
          "colorscale": {
           "diverging": [
            [
             0,
             "#8e0152"
            ],
            [
             0.1,
             "#c51b7d"
            ],
            [
             0.2,
             "#de77ae"
            ],
            [
             0.3,
             "#f1b6da"
            ],
            [
             0.4,
             "#fde0ef"
            ],
            [
             0.5,
             "#f7f7f7"
            ],
            [
             0.6,
             "#e6f5d0"
            ],
            [
             0.7,
             "#b8e186"
            ],
            [
             0.8,
             "#7fbc41"
            ],
            [
             0.9,
             "#4d9221"
            ],
            [
             1,
             "#276419"
            ]
           ],
           "sequential": [
            [
             0,
             "#0d0887"
            ],
            [
             0.1111111111111111,
             "#46039f"
            ],
            [
             0.2222222222222222,
             "#7201a8"
            ],
            [
             0.3333333333333333,
             "#9c179e"
            ],
            [
             0.4444444444444444,
             "#bd3786"
            ],
            [
             0.5555555555555556,
             "#d8576b"
            ],
            [
             0.6666666666666666,
             "#ed7953"
            ],
            [
             0.7777777777777778,
             "#fb9f3a"
            ],
            [
             0.8888888888888888,
             "#fdca26"
            ],
            [
             1,
             "#f0f921"
            ]
           ],
           "sequentialminus": [
            [
             0,
             "#0d0887"
            ],
            [
             0.1111111111111111,
             "#46039f"
            ],
            [
             0.2222222222222222,
             "#7201a8"
            ],
            [
             0.3333333333333333,
             "#9c179e"
            ],
            [
             0.4444444444444444,
             "#bd3786"
            ],
            [
             0.5555555555555556,
             "#d8576b"
            ],
            [
             0.6666666666666666,
             "#ed7953"
            ],
            [
             0.7777777777777778,
             "#fb9f3a"
            ],
            [
             0.8888888888888888,
             "#fdca26"
            ],
            [
             1,
             "#f0f921"
            ]
           ]
          },
          "colorway": [
           "#636efa",
           "#EF553B",
           "#00cc96",
           "#ab63fa",
           "#FFA15A",
           "#19d3f3",
           "#FF6692",
           "#B6E880",
           "#FF97FF",
           "#FECB52"
          ],
          "font": {
           "color": "#2a3f5f"
          },
          "geo": {
           "bgcolor": "white",
           "lakecolor": "white",
           "landcolor": "#E5ECF6",
           "showlakes": true,
           "showland": true,
           "subunitcolor": "white"
          },
          "hoverlabel": {
           "align": "left"
          },
          "hovermode": "closest",
          "mapbox": {
           "style": "light"
          },
          "paper_bgcolor": "white",
          "plot_bgcolor": "#E5ECF6",
          "polar": {
           "angularaxis": {
            "gridcolor": "white",
            "linecolor": "white",
            "ticks": ""
           },
           "bgcolor": "#E5ECF6",
           "radialaxis": {
            "gridcolor": "white",
            "linecolor": "white",
            "ticks": ""
           }
          },
          "scene": {
           "xaxis": {
            "backgroundcolor": "#E5ECF6",
            "gridcolor": "white",
            "gridwidth": 2,
            "linecolor": "white",
            "showbackground": true,
            "ticks": "",
            "zerolinecolor": "white"
           },
           "yaxis": {
            "backgroundcolor": "#E5ECF6",
            "gridcolor": "white",
            "gridwidth": 2,
            "linecolor": "white",
            "showbackground": true,
            "ticks": "",
            "zerolinecolor": "white"
           },
           "zaxis": {
            "backgroundcolor": "#E5ECF6",
            "gridcolor": "white",
            "gridwidth": 2,
            "linecolor": "white",
            "showbackground": true,
            "ticks": "",
            "zerolinecolor": "white"
           }
          },
          "shapedefaults": {
           "line": {
            "color": "#2a3f5f"
           }
          },
          "ternary": {
           "aaxis": {
            "gridcolor": "white",
            "linecolor": "white",
            "ticks": ""
           },
           "baxis": {
            "gridcolor": "white",
            "linecolor": "white",
            "ticks": ""
           },
           "bgcolor": "#E5ECF6",
           "caxis": {
            "gridcolor": "white",
            "linecolor": "white",
            "ticks": ""
           }
          },
          "title": {
           "x": 0.05
          },
          "xaxis": {
           "automargin": true,
           "gridcolor": "white",
           "linecolor": "white",
           "ticks": "",
           "title": {
            "standoff": 15
           },
           "zerolinecolor": "white",
           "zerolinewidth": 2
          },
          "yaxis": {
           "automargin": true,
           "gridcolor": "white",
           "linecolor": "white",
           "ticks": "",
           "title": {
            "standoff": 15
           },
           "zerolinecolor": "white",
           "zerolinewidth": 2
          }
         }
        },
        "title": {
         "text": "Residue Count Distribution"
        },
        "xaxis": {
         "anchor": "y",
         "domain": [
          0,
          1
         ],
         "title": {
          "text": "Residue Count"
         }
        },
        "yaxis": {
         "anchor": "x",
         "domain": [
          0,
          1
         ],
         "title": {
          "text": "Frequency"
         }
        }
       }
      },
      "image/png": "[encoded data removed]"
     },
     "metadata": {},
     "output_type": "display_data"
    },
    {
     "data": {
      "application/vnd.plotly.v1+json": {
       "config": {
        "plotlyServerURL": "https://plot.ly"
       },
       "data": [
        {
         "hovertemplate": "X=%{x}<br>Y=%{y}<br>Chain Count=%{marker.color}<extra></extra>",
         "legendgroup": "",
         "marker": {
          "color": {
           "bdata": "AgACAAEABAABAAQACAAOAAEAAgABAAYAAQABAAEAAwABAAEAAgAFAAIAGwADAGgATAUUABIAAwA=",
           "dtype": "i2"
          },
          "coloraxis": "coloraxis",
          "symbol": "circle"
         },
         "mode": "markers",
         "name": "",
         "orientation": "v",
         "showlegend": false,
         "type": "scatter",
         "x": {
          "bdata": "YiIQ8zkvNECfRHnoL7slQOoyPvb/Wdq/uUA/Z6t1O0BCDPCJ4SlCQHXBiZKE5UFAGi0mBpCDQMB+VUb6JprzPp8W6Cp37ypAhufbWrf1QUBieXibvJkiQIfs3lZjvS1A7vLQaTz7/L9Ieskaqrn6v2M0aoRv6Mm/zkesZvZ6QsA05NgSwX4VQB6X+minhg5AnnBmyCQqP8BlKLMSsKY8QH0H+MnJbjlA3+7CWIX+FcC8sqr/vfFBwK8R1+PJAk1AXc9VumEff0AWCPpQNkJhQAXtkEYGQGpAOrstCmlLVUA=",
          "dtype": "f8"
         },
         "xaxis": "x",
         "y": {
          "bdata": "V5buRracOUCyhAsfBZlRQBbvfBvkoTRAngrkg/TiRECWtqcvsLZEQGUE9Kat8yvA+5cVYAumMcDefXCEeWjzvg6IXtb+CeA/DQkO3vQ6TUDle9bTvIwjQOYk97aT/0BAgTCKlRN3I8DJ7JIEGnbiP9sZUihuQe6/pXWau+Uxwj+yvycpvf44wBffD117PTfA89PoCHuFQUDZOWiYExoiQF1gQQ+0pUZAoxKuw3/IAkCK++zQFFEuwOZmSHQJ8lBA2+58UqkSg0ApcRbPsEJhQEItEPn4P2pAWvKakYu8XkA=",
          "dtype": "f8"
         },
         "yaxis": "y"
        }
       ],
       "layout": {
        "coloraxis": {
         "colorbar": {
          "title": {
           "text": "Chain Count"
          }
         },
         "colorscale": [
          [
           0,
           "#0d0887"
          ],
          [
           0.1111111111111111,
           "#46039f"
          ],
          [
           0.2222222222222222,
           "#7201a8"
          ],
          [
           0.3333333333333333,
           "#9c179e"
          ],
          [
           0.4444444444444444,
           "#bd3786"
          ],
          [
           0.5555555555555556,
           "#d8576b"
          ],
          [
           0.6666666666666666,
           "#ed7953"
          ],
          [
           0.7777777777777778,
           "#fb9f3a"
          ],
          [
           0.8888888888888888,
           "#fdca26"
          ],
          [
           1,
           "#f0f921"
          ]
         ]
        },
        "legend": {
         "tracegroupgap": 0
        },
        "template": {
         "data": {
          "bar": [
           {
            "error_x": {
             "color": "#2a3f5f"
            },
            "error_y": {
             "color": "#2a3f5f"
            },
            "marker": {
             "line": {
              "color": "#E5ECF6",
              "width": 0.5
             },
             "pattern": {
              "fillmode": "overlay",
              "size": 10,
              "solidity": 0.2
             }
            },
            "type": "bar"
           }
          ],
          "barpolar": [
           {
            "marker": {
             "line": {
              "color": "#E5ECF6",
              "width": 0.5
             },
             "pattern": {
              "fillmode": "overlay",
              "size": 10,
              "solidity": 0.2
             }
            },
            "type": "barpolar"
           }
          ],
          "carpet": [
           {
            "aaxis": {
             "endlinecolor": "#2a3f5f",
             "gridcolor": "white",
             "linecolor": "white",
             "minorgridcolor": "white",
             "startlinecolor": "#2a3f5f"
            },
            "baxis": {
             "endlinecolor": "#2a3f5f",
             "gridcolor": "white",
             "linecolor": "white",
             "minorgridcolor": "white",
             "startlinecolor": "#2a3f5f"
            },
            "type": "carpet"
           }
          ],
          "choropleth": [
           {
            "colorbar": {
             "outlinewidth": 0,
             "ticks": ""
            },
            "type": "choropleth"
           }
          ],
          "contour": [
           {
            "colorbar": {
             "outlinewidth": 0,
             "ticks": ""
            },
            "colorscale": [
             [
              0,
              "#0d0887"
             ],
             [
              0.1111111111111111,
              "#46039f"
             ],
             [
              0.2222222222222222,
              "#7201a8"
             ],
             [
              0.3333333333333333,
              "#9c179e"
             ],
             [
              0.4444444444444444,
              "#bd3786"
             ],
             [
              0.5555555555555556,
              "#d8576b"
             ],
             [
              0.6666666666666666,
              "#ed7953"
             ],
             [
              0.7777777777777778,
              "#fb9f3a"
             ],
             [
              0.8888888888888888,
              "#fdca26"
             ],
             [
              1,
              "#f0f921"
             ]
            ],
            "type": "contour"
           }
          ],
          "contourcarpet": [
           {
            "colorbar": {
             "outlinewidth": 0,
             "ticks": ""
            },
            "type": "contourcarpet"
           }
          ],
          "heatmap": [
           {
            "colorbar": {
             "outlinewidth": 0,
             "ticks": ""
            },
            "colorscale": [
             [
              0,
              "#0d0887"
             ],
             [
              0.1111111111111111,
              "#46039f"
             ],
             [
              0.2222222222222222,
              "#7201a8"
             ],
             [
              0.3333333333333333,
              "#9c179e"
             ],
             [
              0.4444444444444444,
              "#bd3786"
             ],
             [
              0.5555555555555556,
              "#d8576b"
             ],
             [
              0.6666666666666666,
              "#ed7953"
             ],
             [
              0.7777777777777778,
              "#fb9f3a"
             ],
             [
              0.8888888888888888,
              "#fdca26"
             ],
             [
              1,
              "#f0f921"
             ]
            ],
            "type": "heatmap"
           }
          ],
          "histogram": [
           {
            "marker": {
             "pattern": {
              "fillmode": "overlay",
              "size": 10,
              "solidity": 0.2
             }
            },
            "type": "histogram"
           }
          ],
          "histogram2d": [
           {
            "colorbar": {
             "outlinewidth": 0,
             "ticks": ""
            },
            "colorscale": [
             [
              0,
              "#0d0887"
             ],
             [
              0.1111111111111111,
              "#46039f"
             ],
             [
              0.2222222222222222,
              "#7201a8"
             ],
             [
              0.3333333333333333,
              "#9c179e"
             ],
             [
              0.4444444444444444,
              "#bd3786"
             ],
             [
              0.5555555555555556,
              "#d8576b"
             ],
             [
              0.6666666666666666,
              "#ed7953"
             ],
             [
              0.7777777777777778,
              "#fb9f3a"
             ],
             [
              0.8888888888888888,
              "#fdca26"
             ],
             [
              1,
              "#f0f921"
             ]
            ],
            "type": "histogram2d"
           }
          ],
          "histogram2dcontour": [
           {
            "colorbar": {
             "outlinewidth": 0,
             "ticks": ""
            },
            "colorscale": [
             [
              0,
              "#0d0887"
             ],
             [
              0.1111111111111111,
              "#46039f"
             ],
             [
              0.2222222222222222,
              "#7201a8"
             ],
             [
              0.3333333333333333,
              "#9c179e"
             ],
             [
              0.4444444444444444,
              "#bd3786"
             ],
             [
              0.5555555555555556,
              "#d8576b"
             ],
             [
              0.6666666666666666,
              "#ed7953"
             ],
             [
              0.7777777777777778,
              "#fb9f3a"
             ],
             [
              0.8888888888888888,
              "#fdca26"
             ],
             [
              1,
              "#f0f921"
             ]
            ],
            "type": "histogram2dcontour"
           }
          ],
          "mesh3d": [
           {
            "colorbar": {
             "outlinewidth": 0,
             "ticks": ""
            },
            "type": "mesh3d"
           }
          ],
          "parcoords": [
           {
            "line": {
             "colorbar": {
              "outlinewidth": 0,
              "ticks": ""
             }
            },
            "type": "parcoords"
           }
          ],
          "pie": [
           {
            "automargin": true,
            "type": "pie"
           }
          ],
          "scatter": [
           {
            "fillpattern": {
             "fillmode": "overlay",
             "size": 10,
             "solidity": 0.2
            },
            "type": "scatter"
           }
          ],
          "scatter3d": [
           {
            "line": {
             "colorbar": {
              "outlinewidth": 0,
              "ticks": ""
             }
            },
            "marker": {
             "colorbar": {
              "outlinewidth": 0,
              "ticks": ""
             }
            },
            "type": "scatter3d"
           }
          ],
          "scattercarpet": [
           {
            "marker": {
             "colorbar": {
              "outlinewidth": 0,
              "ticks": ""
             }
            },
            "type": "scattercarpet"
           }
          ],
          "scattergeo": [
           {
            "marker": {
             "colorbar": {
              "outlinewidth": 0,
              "ticks": ""
             }
            },
            "type": "scattergeo"
           }
          ],
          "scattergl": [
           {
            "marker": {
             "colorbar": {
              "outlinewidth": 0,
              "ticks": ""
             }
            },
            "type": "scattergl"
           }
          ],
          "scattermap": [
           {
            "marker": {
             "colorbar": {
              "outlinewidth": 0,
              "ticks": ""
             }
            },
            "type": "scattermap"
           }
          ],
          "scattermapbox": [
           {
            "marker": {
             "colorbar": {
              "outlinewidth": 0,
              "ticks": ""
             }
            },
            "type": "scattermapbox"
           }
          ],
          "scatterpolar": [
           {
            "marker": {
             "colorbar": {
              "outlinewidth": 0,
              "ticks": ""
             }
            },
            "type": "scatterpolar"
           }
          ],
          "scatterpolargl": [
           {
            "marker": {
             "colorbar": {
              "outlinewidth": 0,
              "ticks": ""
             }
            },
            "type": "scatterpolargl"
           }
          ],
          "scatterternary": [
           {
            "marker": {
             "colorbar": {
              "outlinewidth": 0,
              "ticks": ""
             }
            },
            "type": "scatterternary"
           }
          ],
          "surface": [
           {
            "colorbar": {
             "outlinewidth": 0,
             "ticks": ""
            },
            "colorscale": [
             [
              0,
              "#0d0887"
             ],
             [
              0.1111111111111111,
              "#46039f"
             ],
             [
              0.2222222222222222,
              "#7201a8"
             ],
             [
              0.3333333333333333,
              "#9c179e"
             ],
             [
              0.4444444444444444,
              "#bd3786"
             ],
             [
              0.5555555555555556,
              "#d8576b"
             ],
             [
              0.6666666666666666,
              "#ed7953"
             ],
             [
              0.7777777777777778,
              "#fb9f3a"
             ],
             [
              0.8888888888888888,
              "#fdca26"
             ],
             [
              1,
              "#f0f921"
             ]
            ],
            "type": "surface"
           }
          ],
          "table": [
           {
            "cells": {
             "fill": {
              "color": "#EBF0F8"
             },
             "line": {
              "color": "white"
             }
            },
            "header": {
             "fill": {
              "color": "#C8D4E3"
             },
             "line": {
              "color": "white"
             }
            },
            "type": "table"
           }
          ]
         },
         "layout": {
          "annotationdefaults": {
           "arrowcolor": "#2a3f5f",
           "arrowhead": 0,
           "arrowwidth": 1
          },
          "autotypenumbers": "strict",
          "coloraxis": {
           "colorbar": {
            "outlinewidth": 0,
            "ticks": ""
           }
          },
          "colorscale": {
           "diverging": [
            [
             0,
             "#8e0152"
            ],
            [
             0.1,
             "#c51b7d"
            ],
            [
             0.2,
             "#de77ae"
            ],
            [
             0.3,
             "#f1b6da"
            ],
            [
             0.4,
             "#fde0ef"
            ],
            [
             0.5,
             "#f7f7f7"
            ],
            [
             0.6,
             "#e6f5d0"
            ],
            [
             0.7,
             "#b8e186"
            ],
            [
             0.8,
             "#7fbc41"
            ],
            [
             0.9,
             "#4d9221"
            ],
            [
             1,
             "#276419"
            ]
           ],
           "sequential": [
            [
             0,
             "#0d0887"
            ],
            [
             0.1111111111111111,
             "#46039f"
            ],
            [
             0.2222222222222222,
             "#7201a8"
            ],
            [
             0.3333333333333333,
             "#9c179e"
            ],
            [
             0.4444444444444444,
             "#bd3786"
            ],
            [
             0.5555555555555556,
             "#d8576b"
            ],
            [
             0.6666666666666666,
             "#ed7953"
            ],
            [
             0.7777777777777778,
             "#fb9f3a"
            ],
            [
             0.8888888888888888,
             "#fdca26"
            ],
            [
             1,
             "#f0f921"
            ]
           ],
           "sequentialminus": [
            [
             0,
             "#0d0887"
            ],
            [
             0.1111111111111111,
             "#46039f"
            ],
            [
             0.2222222222222222,
             "#7201a8"
            ],
            [
             0.3333333333333333,
             "#9c179e"
            ],
            [
             0.4444444444444444,
             "#bd3786"
            ],
            [
             0.5555555555555556,
             "#d8576b"
            ],
            [
             0.6666666666666666,
             "#ed7953"
            ],
            [
             0.7777777777777778,
             "#fb9f3a"
            ],
            [
             0.8888888888888888,
             "#fdca26"
            ],
            [
             1,
             "#f0f921"
            ]
           ]
          },
          "colorway": [
           "#636efa",
           "#EF553B",
           "#00cc96",
           "#ab63fa",
           "#FFA15A",
           "#19d3f3",
           "#FF6692",
           "#B6E880",
           "#FF97FF",
           "#FECB52"
          ],
          "font": {
           "color": "#2a3f5f"
          },
          "geo": {
           "bgcolor": "white",
           "lakecolor": "white",
           "landcolor": "#E5ECF6",
           "showlakes": true,
           "showland": true,
           "subunitcolor": "white"
          },
          "hoverlabel": {
           "align": "left"
          },
          "hovermode": "closest",
          "mapbox": {
           "style": "light"
          },
          "paper_bgcolor": "white",
          "plot_bgcolor": "#E5ECF6",
          "polar": {
           "angularaxis": {
            "gridcolor": "white",
            "linecolor": "white",
            "ticks": ""
           },
           "bgcolor": "#E5ECF6",
           "radialaxis": {
            "gridcolor": "white",
            "linecolor": "white",
            "ticks": ""
           }
          },
          "scene": {
           "xaxis": {
            "backgroundcolor": "#E5ECF6",
            "gridcolor": "white",
            "gridwidth": 2,
            "linecolor": "white",
            "showbackground": true,
            "ticks": "",
            "zerolinecolor": "white"
           },
           "yaxis": {
            "backgroundcolor": "#E5ECF6",
            "gridcolor": "white",
            "gridwidth": 2,
            "linecolor": "white",
            "showbackground": true,
            "ticks": "",
            "zerolinecolor": "white"
           },
           "zaxis": {
            "backgroundcolor": "#E5ECF6",
            "gridcolor": "white",
            "gridwidth": 2,
            "linecolor": "white",
            "showbackground": true,
            "ticks": "",
            "zerolinecolor": "white"
           }
          },
          "shapedefaults": {
           "line": {
            "color": "#2a3f5f"
           }
          },
          "ternary": {
           "aaxis": {
            "gridcolor": "white",
            "linecolor": "white",
            "ticks": ""
           },
           "baxis": {
            "gridcolor": "white",
            "linecolor": "white",
            "ticks": ""
           },
           "bgcolor": "#E5ECF6",
           "caxis": {
            "gridcolor": "white",
            "linecolor": "white",
            "ticks": ""
           }
          },
          "title": {
           "x": 0.05
          },
          "xaxis": {
           "automargin": true,
           "gridcolor": "white",
           "linecolor": "white",
           "ticks": "",
           "title": {
            "standoff": 15
           },
           "zerolinecolor": "white",
           "zerolinewidth": 2
          },
          "yaxis": {
           "automargin": true,
           "gridcolor": "white",
           "linecolor": "white",
           "ticks": "",
           "title": {
            "standoff": 15
           },
           "zerolinecolor": "white",
           "zerolinewidth": 2
          }
         }
        },
        "title": {
         "text": "Center of Mass (X vs Y)"
        },
        "xaxis": {
         "anchor": "y",
         "domain": [
          0,
          1
         ],
         "title": {
          "text": "X"
         }
        },
        "yaxis": {
         "anchor": "x",
         "domain": [
          0,
          1
         ],
         "title": {
          "text": "Y"
         }
        }
       }
      },
      "image/png": "[encoded data removed]"
     },
     "metadata": {},
     "output_type": "display_data"
    },
    {
     "data": {
      "application/vnd.plotly.v1+json": {
       "config": {
        "plotlyServerURL": "https://plot.ly"
       },
       "data": [
        {
         "alignmentgroup": "True",
         "hovertemplate": "Angle=%{x}<br>Angle (degrees)=%{y}<extra></extra>",
         "legendgroup": "",
         "marker": {
          "color": "#636efa"
         },
         "name": "",
         "notched": false,
         "offsetgroup": "",
         "orientation": "v",
         "showlegend": false,
         "type": "box",
         "x": [
          "avg_phi",
          "avg_phi",
          "avg_phi",
          "avg_phi",
          "avg_phi",
          "avg_phi",
          "avg_phi",
          "avg_phi",
          "avg_phi",
          "avg_phi",
          "avg_phi",
          "avg_phi",
          "avg_phi",
          "avg_phi",
          "avg_phi",
          "avg_phi",
          "avg_phi",
          "avg_phi",
          "avg_phi",
          "avg_phi",
          "avg_phi",
          "avg_phi",
          "avg_phi",
          "avg_phi",
          "avg_phi",
          "avg_phi",
          "avg_phi",
          "avg_phi",
          "avg_psi",
          "avg_psi",
          "avg_psi",
          "avg_psi",
          "avg_psi",
          "avg_psi",
          "avg_psi",
          "avg_psi",
          "avg_psi",
          "avg_psi",
          "avg_psi",
          "avg_psi",
          "avg_psi",
          "avg_psi",
          "avg_psi",
          "avg_psi",
          "avg_psi",
          "avg_psi",
          "avg_psi",
          "avg_psi",
          "avg_psi",
          "avg_psi",
          "avg_psi",
          "avg_psi",
          "avg_psi",
          "avg_psi",
          "avg_psi",
          "avg_psi"
         ],
         "x0": " ",
         "xaxis": "x",
         "y": {
          "bdata": "sjw+SRcnUcBRcXzaWoVTwLW9aSaHx0/AYiOecrubUcD158gjoUJUwGVM6gf6H1LA+Tea/kd6VMDAOPb6xwpRwARRT5AekVbAfIw6u2QjTMBGJINixnlSwBx7AVQsXlLAegaAECFJTsBoyM/bVKZXwMBJKrTRJ1PATCk1lvo4V8ASdzJgZMZRwDoq6K+n91fAG1ke7w1BUMC4OwlHClNSwKuNCDmasEvA83wHIfxXUsDx7S0SRHlTwOXohhlyGVDAZOEHrKg7UMAYOzAZ0DhVwDak4jxrLVXA3VnkOQWbUMA6Q7U/DnI5QP7Gx6IR0lBAm/pCqF5uMkBg1YGkuvxCQJUx6mDmUk1AJN0WYo7PMUCcxTDxsS5GQNRurTYZWi1Aho2u7I6HV0DnsmyJivsqwGULso2TGDZAHkMoJJt/RUD273jgc1AzQJ29I94qIUlAJYyCeInKN0A7C8QcqWJUQMc85mAA2kpAqMER2JsRV0Dx7F0iiZgqwIqqz+5ahjZArd+v/lI2QsBa7FVIaK8oQKEbK7Hn/UBADjY/27ipNEBc6zpjt/ApQIlGaKCwoUNAe94wZassT0BQsEUcy1HyPw==",
          "dtype": "f8"
         },
         "y0": " ",
         "yaxis": "y"
        }
       ],
       "layout": {
        "boxmode": "group",
        "legend": {
         "tracegroupgap": 0
        },
        "template": {
         "data": {
          "bar": [
           {
            "error_x": {
             "color": "#2a3f5f"
            },
            "error_y": {
             "color": "#2a3f5f"
            },
            "marker": {
             "line": {
              "color": "#E5ECF6",
              "width": 0.5
             },
             "pattern": {
              "fillmode": "overlay",
              "size": 10,
              "solidity": 0.2
             }
            },
            "type": "bar"
           }
          ],
          "barpolar": [
           {
            "marker": {
             "line": {
              "color": "#E5ECF6",
              "width": 0.5
             },
             "pattern": {
              "fillmode": "overlay",
              "size": 10,
              "solidity": 0.2
             }
            },
            "type": "barpolar"
           }
          ],
          "carpet": [
           {
            "aaxis": {
             "endlinecolor": "#2a3f5f",
             "gridcolor": "white",
             "linecolor": "white",
             "minorgridcolor": "white",
             "startlinecolor": "#2a3f5f"
            },
            "baxis": {
             "endlinecolor": "#2a3f5f",
             "gridcolor": "white",
             "linecolor": "white",
             "minorgridcolor": "white",
             "startlinecolor": "#2a3f5f"
            },
            "type": "carpet"
           }
          ],
          "choropleth": [
           {
            "colorbar": {
             "outlinewidth": 0,
             "ticks": ""
            },
            "type": "choropleth"
           }
          ],
          "contour": [
           {
            "colorbar": {
             "outlinewidth": 0,
             "ticks": ""
            },
            "colorscale": [
             [
              0,
              "#0d0887"
             ],
             [
              0.1111111111111111,
              "#46039f"
             ],
             [
              0.2222222222222222,
              "#7201a8"
             ],
             [
              0.3333333333333333,
              "#9c179e"
             ],
             [
              0.4444444444444444,
              "#bd3786"
             ],
             [
              0.5555555555555556,
              "#d8576b"
             ],
             [
              0.6666666666666666,
              "#ed7953"
             ],
             [
              0.7777777777777778,
              "#fb9f3a"
             ],
             [
              0.8888888888888888,
              "#fdca26"
             ],
             [
              1,
              "#f0f921"
             ]
            ],
            "type": "contour"
           }
          ],
          "contourcarpet": [
           {
            "colorbar": {
             "outlinewidth": 0,
             "ticks": ""
            },
            "type": "contourcarpet"
           }
          ],
          "heatmap": [
           {
            "colorbar": {
             "outlinewidth": 0,
             "ticks": ""
            },
            "colorscale": [
             [
              0,
              "#0d0887"
             ],
             [
              0.1111111111111111,
              "#46039f"
             ],
             [
              0.2222222222222222,
              "#7201a8"
             ],
             [
              0.3333333333333333,
              "#9c179e"
             ],
             [
              0.4444444444444444,
              "#bd3786"
             ],
             [
              0.5555555555555556,
              "#d8576b"
             ],
             [
              0.6666666666666666,
              "#ed7953"
             ],
             [
              0.7777777777777778,
              "#fb9f3a"
             ],
             [
              0.8888888888888888,
              "#fdca26"
             ],
             [
              1,
              "#f0f921"
             ]
            ],
            "type": "heatmap"
           }
          ],
          "histogram": [
           {
            "marker": {
             "pattern": {
              "fillmode": "overlay",
              "size": 10,
              "solidity": 0.2
             }
            },
            "type": "histogram"
           }
          ],
          "histogram2d": [
           {
            "colorbar": {
             "outlinewidth": 0,
             "ticks": ""
            },
            "colorscale": [
             [
              0,
              "#0d0887"
             ],
             [
              0.1111111111111111,
              "#46039f"
             ],
             [
              0.2222222222222222,
              "#7201a8"
             ],
             [
              0.3333333333333333,
              "#9c179e"
             ],
             [
              0.4444444444444444,
              "#bd3786"
             ],
             [
              0.5555555555555556,
              "#d8576b"
             ],
             [
              0.6666666666666666,
              "#ed7953"
             ],
             [
              0.7777777777777778,
              "#fb9f3a"
             ],
             [
              0.8888888888888888,
              "#fdca26"
             ],
             [
              1,
              "#f0f921"
             ]
            ],
            "type": "histogram2d"
           }
          ],
          "histogram2dcontour": [
           {
            "colorbar": {
             "outlinewidth": 0,
             "ticks": ""
            },
            "colorscale": [
             [
              0,
              "#0d0887"
             ],
             [
              0.1111111111111111,
              "#46039f"
             ],
             [
              0.2222222222222222,
              "#7201a8"
             ],
             [
              0.3333333333333333,
              "#9c179e"
             ],
             [
              0.4444444444444444,
              "#bd3786"
             ],
             [
              0.5555555555555556,
              "#d8576b"
             ],
             [
              0.6666666666666666,
              "#ed7953"
             ],
             [
              0.7777777777777778,
              "#fb9f3a"
             ],
             [
              0.8888888888888888,
              "#fdca26"
             ],
             [
              1,
              "#f0f921"
             ]
            ],
            "type": "histogram2dcontour"
           }
          ],
          "mesh3d": [
           {
            "colorbar": {
             "outlinewidth": 0,
             "ticks": ""
            },
            "type": "mesh3d"
           }
          ],
          "parcoords": [
           {
            "line": {
             "colorbar": {
              "outlinewidth": 0,
              "ticks": ""
             }
            },
            "type": "parcoords"
           }
          ],
          "pie": [
           {
            "automargin": true,
            "type": "pie"
           }
          ],
          "scatter": [
           {
            "fillpattern": {
             "fillmode": "overlay",
             "size": 10,
             "solidity": 0.2
            },
            "type": "scatter"
           }
          ],
          "scatter3d": [
           {
            "line": {
             "colorbar": {
              "outlinewidth": 0,
              "ticks": ""
             }
            },
            "marker": {
             "colorbar": {
              "outlinewidth": 0,
              "ticks": ""
             }
            },
            "type": "scatter3d"
           }
          ],
          "scattercarpet": [
           {
            "marker": {
             "colorbar": {
              "outlinewidth": 0,
              "ticks": ""
             }
            },
            "type": "scattercarpet"
           }
          ],
          "scattergeo": [
           {
            "marker": {
             "colorbar": {
              "outlinewidth": 0,
              "ticks": ""
             }
            },
            "type": "scattergeo"
           }
          ],
          "scattergl": [
           {
            "marker": {
             "colorbar": {
              "outlinewidth": 0,
              "ticks": ""
             }
            },
            "type": "scattergl"
           }
          ],
          "scattermap": [
           {
            "marker": {
             "colorbar": {
              "outlinewidth": 0,
              "ticks": ""
             }
            },
            "type": "scattermap"
           }
          ],
          "scattermapbox": [
           {
            "marker": {
             "colorbar": {
              "outlinewidth": 0,
              "ticks": ""
             }
            },
            "type": "scattermapbox"
           }
          ],
          "scatterpolar": [
           {
            "marker": {
             "colorbar": {
              "outlinewidth": 0,
              "ticks": ""
             }
            },
            "type": "scatterpolar"
           }
          ],
          "scatterpolargl": [
           {
            "marker": {
             "colorbar": {
              "outlinewidth": 0,
              "ticks": ""
             }
            },
            "type": "scatterpolargl"
           }
          ],
          "scatterternary": [
           {
            "marker": {
             "colorbar": {
              "outlinewidth": 0,
              "ticks": ""
             }
            },
            "type": "scatterternary"
           }
          ],
          "surface": [
           {
            "colorbar": {
             "outlinewidth": 0,
             "ticks": ""
            },
            "colorscale": [
             [
              0,
              "#0d0887"
             ],
             [
              0.1111111111111111,
              "#46039f"
             ],
             [
              0.2222222222222222,
              "#7201a8"
             ],
             [
              0.3333333333333333,
              "#9c179e"
             ],
             [
              0.4444444444444444,
              "#bd3786"
             ],
             [
              0.5555555555555556,
              "#d8576b"
             ],
             [
              0.6666666666666666,
              "#ed7953"
             ],
             [
              0.7777777777777778,
              "#fb9f3a"
             ],
             [
              0.8888888888888888,
              "#fdca26"
             ],
             [
              1,
              "#f0f921"
             ]
            ],
            "type": "surface"
           }
          ],
          "table": [
           {
            "cells": {
             "fill": {
              "color": "#EBF0F8"
             },
             "line": {
              "color": "white"
             }
            },
            "header": {
             "fill": {
              "color": "#C8D4E3"
             },
             "line": {
              "color": "white"
             }
            },
            "type": "table"
           }
          ]
         },
         "layout": {
          "annotationdefaults": {
           "arrowcolor": "#2a3f5f",
           "arrowhead": 0,
           "arrowwidth": 1
          },
          "autotypenumbers": "strict",
          "coloraxis": {
           "colorbar": {
            "outlinewidth": 0,
            "ticks": ""
           }
          },
          "colorscale": {
           "diverging": [
            [
             0,
             "#8e0152"
            ],
            [
             0.1,
             "#c51b7d"
            ],
            [
             0.2,
             "#de77ae"
            ],
            [
             0.3,
             "#f1b6da"
            ],
            [
             0.4,
             "#fde0ef"
            ],
            [
             0.5,
             "#f7f7f7"
            ],
            [
             0.6,
             "#e6f5d0"
            ],
            [
             0.7,
             "#b8e186"
            ],
            [
             0.8,
             "#7fbc41"
            ],
            [
             0.9,
             "#4d9221"
            ],
            [
             1,
             "#276419"
            ]
           ],
           "sequential": [
            [
             0,
             "#0d0887"
            ],
            [
             0.1111111111111111,
             "#46039f"
            ],
            [
             0.2222222222222222,
             "#7201a8"
            ],
            [
             0.3333333333333333,
             "#9c179e"
            ],
            [
             0.4444444444444444,
             "#bd3786"
            ],
            [
             0.5555555555555556,
             "#d8576b"
            ],
            [
             0.6666666666666666,
             "#ed7953"
            ],
            [
             0.7777777777777778,
             "#fb9f3a"
            ],
            [
             0.8888888888888888,
             "#fdca26"
            ],
            [
             1,
             "#f0f921"
            ]
           ],
           "sequentialminus": [
            [
             0,
             "#0d0887"
            ],
            [
             0.1111111111111111,
             "#46039f"
            ],
            [
             0.2222222222222222,
             "#7201a8"
            ],
            [
             0.3333333333333333,
             "#9c179e"
            ],
            [
             0.4444444444444444,
             "#bd3786"
            ],
            [
             0.5555555555555556,
             "#d8576b"
            ],
            [
             0.6666666666666666,
             "#ed7953"
            ],
            [
             0.7777777777777778,
             "#fb9f3a"
            ],
            [
             0.8888888888888888,
             "#fdca26"
            ],
            [
             1,
             "#f0f921"
            ]
           ]
          },
          "colorway": [
           "#636efa",
           "#EF553B",
           "#00cc96",
           "#ab63fa",
           "#FFA15A",
           "#19d3f3",
           "#FF6692",
           "#B6E880",
           "#FF97FF",
           "#FECB52"
          ],
          "font": {
           "color": "#2a3f5f"
          },
          "geo": {
           "bgcolor": "white",
           "lakecolor": "white",
           "landcolor": "#E5ECF6",
           "showlakes": true,
           "showland": true,
           "subunitcolor": "white"
          },
          "hoverlabel": {
           "align": "left"
          },
          "hovermode": "closest",
          "mapbox": {
           "style": "light"
          },
          "paper_bgcolor": "white",
          "plot_bgcolor": "#E5ECF6",
          "polar": {
           "angularaxis": {
            "gridcolor": "white",
            "linecolor": "white",
            "ticks": ""
           },
           "bgcolor": "#E5ECF6",
           "radialaxis": {
            "gridcolor": "white",
            "linecolor": "white",
            "ticks": ""
           }
          },
          "scene": {
           "xaxis": {
            "backgroundcolor": "#E5ECF6",
            "gridcolor": "white",
            "gridwidth": 2,
            "linecolor": "white",
            "showbackground": true,
            "ticks": "",
            "zerolinecolor": "white"
           },
           "yaxis": {
            "backgroundcolor": "#E5ECF6",
            "gridcolor": "white",
            "gridwidth": 2,
            "linecolor": "white",
            "showbackground": true,
            "ticks": "",
            "zerolinecolor": "white"
           },
           "zaxis": {
            "backgroundcolor": "#E5ECF6",
            "gridcolor": "white",
            "gridwidth": 2,
            "linecolor": "white",
            "showbackground": true,
            "ticks": "",
            "zerolinecolor": "white"
           }
          },
          "shapedefaults": {
           "line": {
            "color": "#2a3f5f"
           }
          },
          "ternary": {
           "aaxis": {
            "gridcolor": "white",
            "linecolor": "white",
            "ticks": ""
           },
           "baxis": {
            "gridcolor": "white",
            "linecolor": "white",
            "ticks": ""
           },
           "bgcolor": "#E5ECF6",
           "caxis": {
            "gridcolor": "white",
            "linecolor": "white",
            "ticks": ""
           }
          },
          "title": {
           "x": 0.05
          },
          "xaxis": {
           "automargin": true,
           "gridcolor": "white",
           "linecolor": "white",
           "ticks": "",
           "title": {
            "standoff": 15
           },
           "zerolinecolor": "white",
           "zerolinewidth": 2
          },
          "yaxis": {
           "automargin": true,
           "gridcolor": "white",
           "linecolor": "white",
           "ticks": "",
           "title": {
            "standoff": 15
           },
           "zerolinecolor": "white",
           "zerolinewidth": 2
          }
         }
        },
        "title": {
         "text": "Average Phi and Psi Angle Distributions"
        },
        "xaxis": {
         "anchor": "y",
         "domain": [
          0,
          1
         ],
         "title": {
          "text": "Angle"
         }
        },
        "yaxis": {
         "anchor": "x",
         "domain": [
          0,
          1
         ],
         "title": {
          "text": "Angle (degrees)"
         }
        }
       }
      },
      "image/png": "[encoded data removed]"
     },
     "metadata": {},
     "output_type": "display_data"
    }
   ],
   "source": [
    "fig1 = px.histogram(df, x='residue_count', title='Residue Count Distribution')\n",
    "fig1.update_xaxes(title='Residue Count')\n",
    "fig1.update_yaxes(title='Frequency')\n",
    "fig1.show()\n",
    "\n",
    "fig2 = px.scatter(df, x='center_x', y='center_y', color='chain_count',\n",
    "                 title='Center of Mass (X vs Y)', labels={'center_x':'X', 'center_y':'Y', 'chain_count':'Chain Count'})\n",
    "fig2.show()\n",
    "\n",
    "fig3 = px.box(df, y=['avg_phi', 'avg_psi'], title='Average Phi and Psi Angle Distributions',\n",
    "             labels={'value':'Angle (degrees)', 'variable':'Angle'})\n",
    "fig3.show()"
   ]
  },
  {
   "cell_type": "markdown",
   "id": "44b99117-f6b9-4e7b-b13f-3a40c6c1a6d6",
   "metadata": {},
   "source": [
    "### Exporting Metrics to CSV\n",
    "\n",
    "Finally, we save the compiled metrics into `results/dataset_metrics.csv`, which can be used for further downstream analysis or shared with collaborators.  \n"
   ]
  },
  {
   "cell_type": "code",
   "execution_count": 8,
   "id": "1a5414b9",
   "metadata": {},
   "outputs": [],
   "source": [
    "os.makedirs('results', exist_ok=True)\n",
    "df.to_csv('results/dataset_metrics.csv', index=False)"
   ]
  },
  {
   "cell_type": "code",
   "execution_count": null,
   "id": "44afc320-ec14-461f-a292-77dbc6db58b4",
   "metadata": {},
   "outputs": [],
   "source": []
  }
 ],
 "metadata": {
  "kernelspec": {
   "display_name": "Python 3 (ipykernel)",
   "language": "python",
   "name": "python3"
  },
  "language_info": {
   "codemirror_mode": {
    "name": "ipython",
    "version": 3
   },
   "file_extension": ".py",
   "mimetype": "text/x-python",
   "name": "python",
   "nbconvert_exporter": "python",
   "pygments_lexer": "ipython3",
   "version": "3.12.6"
  }
 },
 "nbformat": 4,
 "nbformat_minor": 5
}
