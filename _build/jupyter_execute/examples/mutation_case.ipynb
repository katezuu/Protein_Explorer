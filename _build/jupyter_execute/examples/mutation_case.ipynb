{
 "cells": [
  {
   "cell_type": "markdown",
   "id": "c9d2849b",
   "metadata": {},
   "source": [
    "# Case Study"
   ]
  }
 ],
 "metadata": {},
 "nbformat": 4,
 "nbformat_minor": 5
}